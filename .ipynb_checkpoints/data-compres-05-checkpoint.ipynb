{
 "cells": [
  {
   "cell_type": "code",
   "execution_count": 60,
   "metadata": {
    "collapsed": false
   },
   "outputs": [
    {
     "data": {
      "text/html": [
       "<div>\n",
       "<table border=\"1\" class=\"dataframe\">\n",
       "  <thead>\n",
       "    <tr style=\"text-align: right;\">\n",
       "      <th></th>\n",
       "      <th>Class label</th>\n",
       "      <th>Alcohol</th>\n",
       "      <th>Malic acid</th>\n",
       "      <th>Ash</th>\n",
       "      <th>Alcalinity of ash</th>\n",
       "      <th>Magnesium</th>\n",
       "      <th>Total phenols</th>\n",
       "      <th>Flavanoids</th>\n",
       "      <th>Nonflavanoid phenols</th>\n",
       "      <th>Proanthocyanins</th>\n",
       "      <th>Color intensity</th>\n",
       "      <th>Hue</th>\n",
       "      <th>OD280/OD315 of diluted wines</th>\n",
       "      <th>Proline</th>\n",
       "    </tr>\n",
       "  </thead>\n",
       "  <tbody>\n",
       "    <tr>\n",
       "      <th>0</th>\n",
       "      <td>1</td>\n",
       "      <td>14.23</td>\n",
       "      <td>1.71</td>\n",
       "      <td>2.43</td>\n",
       "      <td>15.6</td>\n",
       "      <td>127</td>\n",
       "      <td>2.80</td>\n",
       "      <td>3.06</td>\n",
       "      <td>0.28</td>\n",
       "      <td>2.29</td>\n",
       "      <td>5.64</td>\n",
       "      <td>1.04</td>\n",
       "      <td>3.92</td>\n",
       "      <td>1065</td>\n",
       "    </tr>\n",
       "    <tr>\n",
       "      <th>1</th>\n",
       "      <td>1</td>\n",
       "      <td>13.20</td>\n",
       "      <td>1.78</td>\n",
       "      <td>2.14</td>\n",
       "      <td>11.2</td>\n",
       "      <td>100</td>\n",
       "      <td>2.65</td>\n",
       "      <td>2.76</td>\n",
       "      <td>0.26</td>\n",
       "      <td>1.28</td>\n",
       "      <td>4.38</td>\n",
       "      <td>1.05</td>\n",
       "      <td>3.40</td>\n",
       "      <td>1050</td>\n",
       "    </tr>\n",
       "    <tr>\n",
       "      <th>2</th>\n",
       "      <td>1</td>\n",
       "      <td>13.16</td>\n",
       "      <td>2.36</td>\n",
       "      <td>2.67</td>\n",
       "      <td>18.6</td>\n",
       "      <td>101</td>\n",
       "      <td>2.80</td>\n",
       "      <td>3.24</td>\n",
       "      <td>0.30</td>\n",
       "      <td>2.81</td>\n",
       "      <td>5.68</td>\n",
       "      <td>1.03</td>\n",
       "      <td>3.17</td>\n",
       "      <td>1185</td>\n",
       "    </tr>\n",
       "    <tr>\n",
       "      <th>3</th>\n",
       "      <td>1</td>\n",
       "      <td>14.37</td>\n",
       "      <td>1.95</td>\n",
       "      <td>2.50</td>\n",
       "      <td>16.8</td>\n",
       "      <td>113</td>\n",
       "      <td>3.85</td>\n",
       "      <td>3.49</td>\n",
       "      <td>0.24</td>\n",
       "      <td>2.18</td>\n",
       "      <td>7.80</td>\n",
       "      <td>0.86</td>\n",
       "      <td>3.45</td>\n",
       "      <td>1480</td>\n",
       "    </tr>\n",
       "    <tr>\n",
       "      <th>4</th>\n",
       "      <td>1</td>\n",
       "      <td>13.24</td>\n",
       "      <td>2.59</td>\n",
       "      <td>2.87</td>\n",
       "      <td>21.0</td>\n",
       "      <td>118</td>\n",
       "      <td>2.80</td>\n",
       "      <td>2.69</td>\n",
       "      <td>0.39</td>\n",
       "      <td>1.82</td>\n",
       "      <td>4.32</td>\n",
       "      <td>1.04</td>\n",
       "      <td>2.93</td>\n",
       "      <td>735</td>\n",
       "    </tr>\n",
       "  </tbody>\n",
       "</table>\n",
       "</div>"
      ],
      "text/plain": [
       "   Class label  Alcohol  Malic acid   Ash  Alcalinity of ash  Magnesium  \\\n",
       "0            1    14.23        1.71  2.43               15.6        127   \n",
       "1            1    13.20        1.78  2.14               11.2        100   \n",
       "2            1    13.16        2.36  2.67               18.6        101   \n",
       "3            1    14.37        1.95  2.50               16.8        113   \n",
       "4            1    13.24        2.59  2.87               21.0        118   \n",
       "\n",
       "   Total phenols  Flavanoids  Nonflavanoid phenols  Proanthocyanins  \\\n",
       "0           2.80        3.06                  0.28             2.29   \n",
       "1           2.65        2.76                  0.26             1.28   \n",
       "2           2.80        3.24                  0.30             2.81   \n",
       "3           3.85        3.49                  0.24             2.18   \n",
       "4           2.80        2.69                  0.39             1.82   \n",
       "\n",
       "   Color intensity   Hue  OD280/OD315 of diluted wines  Proline  \n",
       "0             5.64  1.04                          3.92     1065  \n",
       "1             4.38  1.05                          3.40     1050  \n",
       "2             5.68  1.03                          3.17     1185  \n",
       "3             7.80  0.86                          3.45     1480  \n",
       "4             4.32  1.04                          2.93      735  "
      ]
     },
     "execution_count": 60,
     "metadata": {},
     "output_type": "execute_result"
    }
   ],
   "source": [
    "import pandas as pd\n",
    "import numpy as np\n",
    "\n",
    "df_wine = pd.read_csv('https://archive.ics.uci.edu/ml/'\n",
    "                      'machine-learning-databases/wine/wine.data',\n",
    "                      header=None)\n",
    "\n",
    "df_wine.columns = ['Class label', 'Alcohol', 'Malic acid', 'Ash',\n",
    "                   'Alcalinity of ash', 'Magnesium', 'Total phenols',\n",
    "                   'Flavanoids', 'Nonflavanoid phenols', 'Proanthocyanins',\n",
    "                   'Color intensity', 'Hue',\n",
    "                   'OD280/OD315 of diluted wines', 'Proline']\n",
    "\n",
    "df_wine.head()"
   ]
  },
  {
   "cell_type": "code",
   "execution_count": 61,
   "metadata": {
    "collapsed": false
   },
   "outputs": [
    {
     "name": "stdout",
     "output_type": "stream",
     "text": [
      "Class label [1 2 3]\n"
     ]
    }
   ],
   "source": [
    "print('Class label',np.unique(df_wine['Class label']))"
   ]
  },
  {
   "cell_type": "code",
   "execution_count": 62,
   "metadata": {
    "collapsed": true
   },
   "outputs": [],
   "source": [
    "from sklearn.cross_validation import train_test_split\n",
    "X, y = df_wine.iloc[:, 1:].values, df_wine.iloc[:, 0].values"
   ]
  },
  {
   "cell_type": "code",
   "execution_count": 63,
   "metadata": {
    "collapsed": true
   },
   "outputs": [],
   "source": [
    "X_train, X_test, y_train, y_test = train_test_split(\n",
    "                                        X, y, test_size=0.3, random_state=0)"
   ]
  },
  {
   "cell_type": "code",
   "execution_count": 64,
   "metadata": {
    "collapsed": true
   },
   "outputs": [],
   "source": [
    "from sklearn.preprocessing import StandardScaler\n",
    "sc = StandardScaler()\n",
    "X_train_std = sc.fit_transform(X_train)\n",
    "X_test_std = sc.transform(X_test)"
   ]
  },
  {
   "cell_type": "code",
   "execution_count": 65,
   "metadata": {
    "collapsed": false
   },
   "outputs": [],
   "source": [
    "cov_mat = np.cov(X_train_std.T)\n",
    "eigen_vals, eigen_vecs = np.linalg.eig(cov_mat)"
   ]
  },
  {
   "cell_type": "code",
   "execution_count": 66,
   "metadata": {
    "collapsed": false
   },
   "outputs": [
    {
     "name": "stdout",
     "output_type": "stream",
     "text": [
      "\n",
      "Eigenvalues \n",
      "[ 4.8923  2.4664  1.4281  1.0123  0.8491  0.6018  0.5225  0.0841  0.3305\n",
      "  0.296   0.1683  0.2143  0.24  ]\n"
     ]
    }
   ],
   "source": [
    "print('\\nEigenvalues \\n%s' % eigen_vals)"
   ]
  },
  {
   "cell_type": "code",
   "execution_count": 67,
   "metadata": {
    "collapsed": false
   },
   "outputs": [
    {
     "name": "stdout",
     "output_type": "stream",
     "text": [
      "\n",
      "Eigenvectors \n",
      "[[  1.4670e-01   5.0417e-01  -1.1724e-01   2.0625e-01  -1.8782e-01\n",
      "   -1.4885e-01  -1.7926e-01  -5.5469e-02  -4.0305e-01  -4.1720e-01\n",
      "    2.7566e-01   4.0357e-01   4.1332e-04]\n",
      " [ -2.4225e-01   2.4217e-01   1.4995e-01   1.3049e-01   5.6864e-01\n",
      "   -2.6905e-01  -5.9264e-01   3.3273e-02  -1.0183e-01   2.1710e-01\n",
      "   -8.1385e-02  -1.5247e-01  -8.7856e-02]\n",
      " [ -2.9934e-02   2.8698e-01   6.5639e-01   1.5154e-02  -2.9921e-01\n",
      "   -9.3339e-02   6.0733e-02  -1.0062e-01   3.5184e-01   1.2855e-01\n",
      "   -1.2975e-02   1.6838e-01  -4.5252e-01]\n",
      " [ -2.5519e-01  -6.4687e-02   5.8428e-01  -9.0422e-02  -4.1250e-02\n",
      "   -1.0134e-01   2.5032e-01   5.6166e-02  -5.0046e-01   4.7334e-02\n",
      "    9.8909e-02  -6.7090e-02   4.8617e-01]\n",
      " [  1.2080e-01   2.2995e-01   8.2263e-02  -8.3913e-01  -2.7197e-02\n",
      "    1.1257e-01  -2.8524e-01   9.5842e-02   8.3739e-02  -2.7892e-01\n",
      "   -9.5930e-02  -1.0240e-01   1.1476e-01]\n",
      " [  3.8934e-01   9.3640e-02   1.8080e-01   1.9318e-01   1.4065e-01\n",
      "    1.2225e-02   5.3146e-02  -4.2127e-01   1.3511e-01  -2.8099e-01\n",
      "    2.8390e-01  -6.1860e-01   9.4565e-02]\n",
      " [  4.2326e-01   1.0886e-02   1.4296e-01   1.4046e-01   9.2687e-02\n",
      "   -5.5035e-02   7.9899e-02   8.4722e-01   3.3602e-03  -3.9144e-02\n",
      "    1.1673e-01  -1.3968e-01  -1.0044e-01]\n",
      " [ -3.0635e-01   1.8702e-02   1.7223e-01   3.3733e-01  -8.5842e-02\n",
      "    6.9534e-01  -2.9737e-01   1.6626e-01   1.9012e-01  -2.7862e-01\n",
      "   -3.9657e-02   1.6332e-03   2.0013e-01]\n",
      " [  3.0572e-01   3.0404e-02   1.5836e-01  -1.1475e-01   5.6511e-01\n",
      "    4.9835e-01   2.0252e-01  -1.6620e-01  -1.7603e-01   1.4854e-01\n",
      "    8.6060e-02   3.8857e-01  -1.3994e-01]\n",
      " [ -9.8692e-02   5.4527e-01  -1.4242e-01   7.8786e-02   1.3235e-02\n",
      "    1.5945e-01   3.9736e-01   3.9617e-02  -2.1493e-01  -4.1024e-03\n",
      "   -5.7165e-01  -3.0835e-01  -1.1535e-01]\n",
      " [  3.0033e-01  -2.7924e-01   9.3239e-02   2.4174e-02  -3.7261e-01\n",
      "    2.1652e-01  -3.8465e-01  -1.0538e-01  -5.1726e-01   1.9781e-01\n",
      "   -1.9884e-01  -2.0046e-01  -3.0225e-01]\n",
      " [  3.6821e-01  -1.7436e-01   1.9608e-01   1.8403e-01   8.9380e-02\n",
      "   -2.3517e-01  -8.6290e-02  -9.9506e-02   1.3646e-01  -2.3814e-01\n",
      "   -6.5087e-01   2.8410e-01   3.1841e-01]\n",
      " [  2.9260e-01   3.6315e-01  -9.7317e-02   5.6768e-02  -2.1753e-01\n",
      "    1.0562e-01  -1.3030e-01  -1.6066e-02   1.6776e-01   6.3735e-01\n",
      "    7.1238e-02   3.7555e-02   5.0325e-01]]\n"
     ]
    }
   ],
   "source": [
    "print('\\nEigenvectors \\n%s' % eigen_vecs)"
   ]
  },
  {
   "cell_type": "code",
   "execution_count": 68,
   "metadata": {
    "collapsed": false
   },
   "outputs": [],
   "source": [
    "tot = sum(eigen_vals)\n",
    "var_exp = [(i / tot) for i in sorted(eigen_vals, reverse=True)]\n",
    "cum_var_exp = np.cumsum(var_exp)"
   ]
  },
  {
   "cell_type": "code",
   "execution_count": 69,
   "metadata": {
    "collapsed": true
   },
   "outputs": [],
   "source": [
    "import matplotlib.pyplot as plt\n",
    "\n",
    "\n",
    "plt.bar(range(1, 14), var_exp, alpha=0.5, align='center',\n",
    "        label='individual explained variance')\n",
    "plt.step(range(1, 14), cum_var_exp, where='mid',\n",
    "         label='cumulative explained variance')\n",
    "plt.ylabel('Explained variance ratio')\n",
    "plt.xlabel('Principal components')\n",
    "plt.legend(loc='best')\n",
    "# plt.tight_layout()\n",
    "# plt.savefig('./figures/pca1.png', dpi=300)\n",
    "plt.show()"
   ]
  },
  {
   "cell_type": "code",
   "execution_count": 70,
   "metadata": {
    "collapsed": true
   },
   "outputs": [],
   "source": [
    "eigen_pairs = [(np.abs(eigen_vals[i]), eigen_vecs[:, i])\n",
    "               for i in range(len(eigen_vals))]"
   ]
  },
  {
   "cell_type": "code",
   "execution_count": 71,
   "metadata": {
    "collapsed": false
   },
   "outputs": [
    {
     "data": {
      "text/plain": [
       "[(4.8923083032737438,\n",
       "  array([ 0.1467, -0.2422, -0.0299, -0.2552,  0.1208,  0.3893,  0.4233,\n",
       "         -0.3063,  0.3057, -0.0987,  0.3003,  0.3682,  0.2926])),\n",
       " (2.466350315759231,\n",
       "  array([ 0.5042,  0.2422,  0.287 , -0.0647,  0.23  ,  0.0936,  0.0109,\n",
       "          0.0187,  0.0304,  0.5453, -0.2792, -0.1744,  0.3632])),\n",
       " (1.4280997275048446,\n",
       "  array([-0.1172,  0.1499,  0.6564,  0.5843,  0.0823,  0.1808,  0.143 ,\n",
       "          0.1722,  0.1584, -0.1424,  0.0932,  0.1961, -0.0973])),\n",
       " (1.0123346209044954,\n",
       "  array([ 0.2063,  0.1305,  0.0152, -0.0904, -0.8391,  0.1932,  0.1405,\n",
       "          0.3373, -0.1148,  0.0788,  0.0242,  0.184 ,  0.0568])),\n",
       " (0.8490645933450256,\n",
       "  array([-0.1878,  0.5686, -0.2992, -0.0412, -0.0272,  0.1406,  0.0927,\n",
       "         -0.0858,  0.5651,  0.0132, -0.3726,  0.0894, -0.2175])),\n",
       " (0.60181514342299047,\n",
       "  array([-0.1489, -0.2691, -0.0933, -0.1013,  0.1126,  0.0122, -0.055 ,\n",
       "          0.6953,  0.4984,  0.1595,  0.2165, -0.2352,  0.1056])),\n",
       " (0.52251546206399724,\n",
       "  array([-0.1793, -0.5926,  0.0607,  0.2503, -0.2852,  0.0531,  0.0799,\n",
       "         -0.2974,  0.2025,  0.3974, -0.3847, -0.0863, -0.1303])),\n",
       " (0.33051429173094071,\n",
       "  array([-0.4031, -0.1018,  0.3518, -0.5005,  0.0837,  0.1351,  0.0034,\n",
       "          0.1901, -0.176 , -0.2149, -0.5173,  0.1365,  0.1678])),\n",
       " (0.29595018365934689,\n",
       "  array([-0.4172,  0.2171,  0.1285,  0.0473, -0.2789, -0.281 , -0.0391,\n",
       "         -0.2786,  0.1485, -0.0041,  0.1978, -0.2381,  0.6374])),\n",
       " (0.23995530477949117,\n",
       "  array([  4.1332e-04,  -8.7856e-02,  -4.5252e-01,   4.8617e-01,\n",
       "           1.1476e-01,   9.4565e-02,  -1.0044e-01,   2.0013e-01,\n",
       "          -1.3994e-01,  -1.1535e-01,  -3.0225e-01,   3.1841e-01,   5.0325e-01])),\n",
       " (0.21432211869872336,\n",
       "  array([ 0.4036, -0.1525,  0.1684, -0.0671, -0.1024, -0.6186, -0.1397,\n",
       "          0.0016,  0.3886, -0.3083, -0.2005,  0.2841,  0.0376])),\n",
       " (0.16831253504096197,\n",
       "  array([ 0.2757, -0.0814, -0.013 ,  0.0989, -0.0959,  0.2839,  0.1167,\n",
       "         -0.0397,  0.0861, -0.5717, -0.1988, -0.6509,  0.0712])),\n",
       " (0.084148456726794552,\n",
       "  array([-0.0555,  0.0333, -0.1006,  0.0562,  0.0958, -0.4213,  0.8472,\n",
       "          0.1663, -0.1662,  0.0396, -0.1054, -0.0995, -0.0161]))]"
      ]
     },
     "execution_count": 71,
     "metadata": {},
     "output_type": "execute_result"
    }
   ],
   "source": [
    "#eigen_pairs.sort(key=lambda k: k[0], reverse=True)\n",
    "eigen_pairs.sort(reverse=True)\n",
    "eigen_pairs"
   ]
  },
  {
   "cell_type": "code",
   "execution_count": 72,
   "metadata": {
    "collapsed": false
   },
   "outputs": [
    {
     "data": {
      "text/plain": [
       "(array([ 0.1467, -0.2422, -0.0299, -0.2552,  0.1208,  0.3893,  0.4233,\n",
       "        -0.3063,  0.3057, -0.0987,  0.3003,  0.3682,  0.2926]),\n",
       " array([ 0.5042,  0.2422,  0.287 , -0.0647,  0.23  ,  0.0936,  0.0109,\n",
       "         0.0187,  0.0304,  0.5453, -0.2792, -0.1744,  0.3632]))"
      ]
     },
     "execution_count": 72,
     "metadata": {},
     "output_type": "execute_result"
    }
   ],
   "source": [
    "eigen_pairs[0][1], eigen_pairs[1][1]"
   ]
  },
  {
   "cell_type": "code",
   "execution_count": 73,
   "metadata": {
    "collapsed": false
   },
   "outputs": [
    {
     "data": {
      "text/plain": [
       "array([ 0.1467, -0.2422, -0.0299, -0.2552,  0.1208,  0.3893,  0.4233,\n",
       "       -0.3063,  0.3057, -0.0987,  0.3003,  0.3682,  0.2926,  0.5042,\n",
       "        0.2422,  0.287 , -0.0647,  0.23  ,  0.0936,  0.0109,  0.0187,\n",
       "        0.0304,  0.5453, -0.2792, -0.1744,  0.3632])"
      ]
     },
     "execution_count": 73,
     "metadata": {},
     "output_type": "execute_result"
    }
   ],
   "source": [
    "np.hstack((eigen_pairs[0][1], eigen_pairs[1][1]))"
   ]
  },
  {
   "cell_type": "code",
   "execution_count": 74,
   "metadata": {
    "collapsed": false
   },
   "outputs": [],
   "source": [
    "w = np.hstack((eigen_pairs[0][1][:, np.newaxis],\n",
    "               eigen_pairs[1][1][:, np.newaxis]))"
   ]
  },
  {
   "cell_type": "code",
   "execution_count": 75,
   "metadata": {
    "collapsed": false
   },
   "outputs": [
    {
     "name": "stdout",
     "output_type": "stream",
     "text": [
      "Matrix W:\n",
      " [[ 0.1467  0.5042]\n",
      " [-0.2422  0.2422]\n",
      " [-0.0299  0.287 ]\n",
      " [-0.2552 -0.0647]\n",
      " [ 0.1208  0.23  ]\n",
      " [ 0.3893  0.0936]\n",
      " [ 0.4233  0.0109]\n",
      " [-0.3063  0.0187]\n",
      " [ 0.3057  0.0304]\n",
      " [-0.0987  0.5453]\n",
      " [ 0.3003 -0.2792]\n",
      " [ 0.3682 -0.1744]\n",
      " [ 0.2926  0.3632]]\n"
     ]
    }
   ],
   "source": [
    "print('Matrix W:\\n', w)"
   ]
  },
  {
   "cell_type": "code",
   "execution_count": 76,
   "metadata": {
    "collapsed": false
   },
   "outputs": [
    {
     "data": {
      "text/plain": [
       "array([ 0.9108, -0.4626, -0.0114, -0.8207,  0.0624,  0.5882,  0.9357,\n",
       "       -0.7619,  0.1301, -0.5124,  0.6571,  1.9435,  0.937 ])"
      ]
     },
     "execution_count": 76,
     "metadata": {},
     "output_type": "execute_result"
    }
   ],
   "source": [
    "X_train_std[0]"
   ]
  },
  {
   "cell_type": "code",
   "execution_count": 77,
   "metadata": {
    "collapsed": false
   },
   "outputs": [
    {
     "data": {
      "text/plain": [
       "array([ 2.5989,  0.0048])"
      ]
     },
     "execution_count": 77,
     "metadata": {},
     "output_type": "execute_result"
    }
   ],
   "source": [
    "X_train_std[0].dot(w)"
   ]
  },
  {
   "cell_type": "code",
   "execution_count": 78,
   "metadata": {
    "collapsed": false
   },
   "outputs": [
    {
     "data": {
      "text/plain": [
       "(array([ 2.5989,  1.3662,  2.5309,  0.5458,  3.5605,  3.3022,  2.7699,\n",
       "         2.0615,  3.5252,  1.7043,  3.1412,  2.3415,  3.5785,  3.8225,\n",
       "         2.5113,  2.209 ,  4.3718,  3.3113,  2.8173,  1.8517,  1.9635,\n",
       "         2.235 ,  0.8106,  2.3186,  3.1473,  1.9344,  1.6194,  2.2552,\n",
       "         1.4471,  2.1985,  2.7621,  1.6783,  2.3353,  0.9117,  2.5458,\n",
       "         3.2154,  1.4006,  1.1079,  2.8349,  2.9184]),\n",
       " array([ 0.0048,  0.0464,  1.058 ,  0.4104,  1.4256,  0.4094,  1.8607,\n",
       "         1.3228,  1.4188, -0.4627,  0.8025,  1.6999,  1.7815,  2.8815,\n",
       "         1.3336,  0.8572,  2.3359,  1.4323,  1.381 ,  0.7491,  0.2156,\n",
       "         1.2968,  0.3297, -0.1295,  1.3115,  1.6157, -0.632 ,  1.8931,\n",
       "         0.6667,  0.69  ,  1.5454,  0.1082,  0.3436,  0.6548,  1.852 ,\n",
       "         1.8414,  0.6611,  0.2458,  0.9581,  0.8204]))"
      ]
     },
     "execution_count": 78,
     "metadata": {},
     "output_type": "execute_result"
    }
   ],
   "source": [
    "X_train_pca = X_train_std.dot(w)\n",
    "X_train_pca\n",
    "X_train_pca[y_train == 1, 0], X_train_pca[y_train == 1, 1]"
   ]
  },
  {
   "cell_type": "code",
   "execution_count": 79,
   "metadata": {
    "collapsed": true
   },
   "outputs": [],
   "source": [
    "colors = ['r', 'b', 'g']\n",
    "markers = ['s', 'x', 'o']\n",
    "\n",
    "for l, c, m in zip(np.unique(y_train), colors, markers):\n",
    "    plt.scatter(X_train_pca[y_train == l, 0], \n",
    "                X_train_pca[y_train == l, 1], \n",
    "                c=c, label=l, marker=m)\n",
    "\n",
    "plt.xlabel('PC 1')\n",
    "plt.ylabel('PC 2')\n",
    "plt.legend(loc='lower left')\n",
    "# plt.tight_layout()\n",
    "# plt.savefig('./figures/pca2.png', dpi=300)\n",
    "plt.show()"
   ]
  },
  {
   "cell_type": "code",
   "execution_count": 80,
   "metadata": {
    "collapsed": true
   },
   "outputs": [],
   "source": [
    "from matplotlib.colors import ListedColormap\n",
    "\n",
    "def plot_decision_regions(X, y, classifier, resolution=0.02):\n",
    "\n",
    "    # setup marker generator and color map\n",
    "    markers = ('s', 'x', 'o', '^', 'v')\n",
    "    colors = ('red', 'blue', 'lightgreen', 'gray', 'cyan')\n",
    "    cmap = ListedColormap(colors[:len(np.unique(y))])\n",
    "\n",
    "    # plot the decision surface\n",
    "    x1_min, x1_max = X[:, 0].min() - 1, X[:, 0].max() + 1\n",
    "    x2_min, x2_max = X[:, 1].min() - 1, X[:, 1].max() + 1\n",
    "    xx1, xx2 = np.meshgrid(np.arange(x1_min, x1_max, resolution),\n",
    "                           np.arange(x2_min, x2_max, resolution))\n",
    "    Z = classifier.predict(np.array([xx1.ravel(), xx2.ravel()]).T)\n",
    "    Z = Z.reshape(xx1.shape)\n",
    "    plt.contourf(xx1, xx2, Z, alpha=0.4, cmap=cmap)\n",
    "    plt.xlim(xx1.min(), xx1.max())\n",
    "    plt.ylim(xx2.min(), xx2.max())\n",
    "\n",
    "    # plot class samples\n",
    "    for idx, cl in enumerate(np.unique(y)):\n",
    "        plt.scatter(x=X[y == cl, 0], y=X[y == cl, 1],\n",
    "                    alpha=0.8, c=cmap(idx),\n",
    "                    marker=markers[idx], label=cl)"
   ]
  },
  {
   "cell_type": "code",
   "execution_count": 81,
   "metadata": {
    "collapsed": true
   },
   "outputs": [],
   "source": [
    "from sklearn.linear_model import LogisticRegression\n",
    "from sklearn.decomposition import PCA"
   ]
  },
  {
   "cell_type": "code",
   "execution_count": 82,
   "metadata": {
    "collapsed": true
   },
   "outputs": [],
   "source": [
    "pca = PCA(n_components=2)\n",
    "lr = LogisticRegression()"
   ]
  },
  {
   "cell_type": "code",
   "execution_count": 83,
   "metadata": {
    "collapsed": false
   },
   "outputs": [
    {
     "data": {
      "text/plain": [
       "array([ 0.3733,  0.1882])"
      ]
     },
     "execution_count": 83,
     "metadata": {},
     "output_type": "execute_result"
    }
   ],
   "source": [
    "X_train_pca = pca.fit_transform(X_train_std)\n",
    "X_test_pca = pca.transform(X_test_std)\n",
    "\n",
    "lr.fit(X_train_pca, y_train)\n",
    "pca.explained_variance_ratio_"
   ]
  },
  {
   "cell_type": "code",
   "execution_count": 84,
   "metadata": {
    "collapsed": false
   },
   "outputs": [],
   "source": [
    "plot_decision_regions(X_train_pca, y_train, classifier=lr)\n",
    "plt.xlabel('PC 1')\n",
    "plt.ylabel('PC 2')\n",
    "plt.legend(loc='lower left')\n",
    "# plt.tight_layout()\n",
    "# plt.savefig('./figures/pca3.png', dpi=300)\n",
    "plt.show()"
   ]
  },
  {
   "cell_type": "code",
   "execution_count": 85,
   "metadata": {
    "collapsed": false
   },
   "outputs": [],
   "source": [
    "plot_decision_regions(X_test_pca, y_test, classifier=lr)\n",
    "plt.xlabel('PC 1')\n",
    "plt.ylabel('PC 2')\n",
    "plt.legend(loc='lower left')\n",
    "# plt.tight_layout()\n",
    "# plt.savefig('./figures/pca4.png', dpi=300)\n",
    "plt.show()"
   ]
  },
  {
   "cell_type": "code",
   "execution_count": 27,
   "metadata": {
    "collapsed": false
   },
   "outputs": [
    {
     "data": {
      "text/plain": [
       "array([ 0.37329648,  0.18818926,  0.10896791,  0.07724389,  0.06478595,\n",
       "        0.04592014,  0.03986936,  0.02521914,  0.02258181,  0.01830924,\n",
       "        0.01635336,  0.01284271,  0.00642076])"
      ]
     },
     "execution_count": 27,
     "metadata": {},
     "output_type": "execute_result"
    }
   ],
   "source": [
    "# pca = PCA(n_components=None)\n",
    "# X_train_std = pca.fit_transform(X_train_std)\n",
    "# pca.explained_variance_ratio_"
   ]
  },
  {
   "cell_type": "code",
   "execution_count": 86,
   "metadata": {
    "collapsed": false
   },
   "outputs": [
    {
     "name": "stdout",
     "output_type": "stream",
     "text": [
      "MV 1: [ 0.9259 -0.3091  0.2592 -0.7989  0.3039  0.9608  1.0515 -0.6306  0.5354\n",
      "  0.2209  0.4855  0.798   1.2017]\n",
      "\n",
      "MV 2: [-0.8727 -0.3854 -0.4437  0.2481 -0.2409 -0.1059  0.0187 -0.0164  0.1095\n",
      " -0.8796  0.4392  0.2776 -0.7016]\n",
      "\n",
      "MV 3: [ 0.1637  0.8929  0.3249  0.5658 -0.01   -0.9499 -1.228   0.7436 -0.7652\n",
      "  0.979  -1.1698 -1.3007 -0.3912]\n",
      "\n"
     ]
    }
   ],
   "source": [
    "np.set_printoptions(precision=4)\n",
    "\n",
    "mean_vecs = []\n",
    "for label in range(1, 4):\n",
    "    mean_vecs.append(np.mean(X_train_std[y_train == label], axis=0))\n",
    "    print('MV %s: %s\\n' % (label, mean_vecs[label - 1]))"
   ]
  },
  {
   "cell_type": "code",
   "execution_count": 87,
   "metadata": {
    "collapsed": false
   },
   "outputs": [
    {
     "data": {
      "text/plain": [
       "0.38493950086014972"
      ]
     },
     "execution_count": 87,
     "metadata": {},
     "output_type": "execute_result"
    }
   ],
   "source": [
    "np.mean(X_train_std[y_train == 1])"
   ]
  },
  {
   "cell_type": "code",
   "execution_count": 88,
   "metadata": {
    "collapsed": false
   },
   "outputs": [
    {
     "data": {
      "text/plain": [
       "array([[  9.1083e-01,  -4.6260e-01,  -1.1426e-02,  -8.2068e-01,\n",
       "          6.2417e-02,   5.8820e-01,   9.3565e-01,  -7.6191e-01,\n",
       "          1.3007e-01,  -5.1239e-01,   6.5707e-01,   1.9435e+00,\n",
       "          9.3701e-01],\n",
       "       [  3.9711e-01,  -5.8626e-01,  -8.1067e-01,  -7.0848e-01,\n",
       "         -4.1703e-01,   2.3690e-01,   2.2658e-01,  -7.6191e-01,\n",
       "         -4.4057e-01,  -4.4833e-01,   2.7343e-01,   2.3364e-01,\n",
       "          1.7497e+00],\n",
       "       [  2.2170e-01,  -2.0943e-02,   1.1148e+00,  -2.5969e-01,\n",
       "          6.2417e-02,   9.0605e-01,   1.3056e+00,  -5.1946e-01,\n",
       "          2.0098e+00,   2.9041e-01,   3.1605e-01,   7.8971e-01,\n",
       "          1.4246e+00],\n",
       "       [  3.2193e-01,   1.4100e+00,  -2.6573e-01,  -5.6823e-01,\n",
       "          1.9940e-01,   6.3839e-01,   6.7874e-01,  -3.5782e-01,\n",
       "          7.9721e-02,  -2.7326e-01,  -5.7910e-01,   5.5338e-01,\n",
       "         -2.1705e-01],\n",
       "       [  1.3995e+00,  -1.9761e-01,  -2.2940e-01,  -4.2798e-01,\n",
       "          3.3639e-01,   1.1570e+00,   1.3878e+00,  -1.1660e+00,\n",
       "          1.2881e+00,   3.2030e-01,   1.2538e+00,   7.8971e-01,\n",
       "          2.4812e+00],\n",
       "       [  8.3868e-02,  -5.7743e-01,  -1.1740e+00,  -1.9988e+00,\n",
       "         -5.5402e-01,   7.7222e-01,   1.3364e+00,  -1.5701e+00,\n",
       "          2.1777e+00,   9.3947e-01,   6.9969e-01,   4.2826e-01,\n",
       "          1.3109e+00],\n",
       "       [  1.1990e+00,  -5.7743e-01,  -3.3839e-01,  -5.9628e-01,\n",
       "          5.4187e-01,   1.0399e+00,   1.6139e+00,  -3.5782e-01,\n",
       "          7.8463e-01,   1.6654e+00,   6.9969e-01,   6.9239e-01,\n",
       "          1.6685e+00],\n",
       "       [  1.3995e+00,  -3.2127e-01,   1.3389e-01,  -2.0359e-01,\n",
       "          1.9940e-01,   8.2241e-01,   9.7676e-01,  -3.5782e-01,\n",
       "          1.2881e+00,   5.1246e-01,   4.8656e-01,   2.0583e-01,\n",
       "          1.0183e+00],\n",
       "       [  2.2139e+00,  -5.7743e-01,   9.7562e-02,  -2.2793e+00,\n",
       "         -6.2251e-01,   1.4079e+00,   1.7680e+00,   5.3119e-01,\n",
       "          2.0098e+00,   1.7084e-01,   1.2538e+00,   1.7803e-01,\n",
       "          1.3109e+00],\n",
       "       [ -1.6673e-01,  -6.9226e-01,   5.6984e-01,  -4.8408e-01,\n",
       "         -3.4854e-01,   3.7073e-01,   4.1156e-01,  -8.4273e-01,\n",
       "         -2.5595e-01,  -4.5688e-01,   5.7181e-01,   1.4292e+00,\n",
       "          8.7199e-01],\n",
       "       [  1.3494e+00,  -6.6576e-01,  -3.0206e-01,  -9.8898e-01,\n",
       "          1.7747e+00,   1.2406e+00,   1.2337e+00,  -1.0044e+00,\n",
       "          8.1819e-01,   2.7760e-01,   5.7181e-01,   1.5404e+00,\n",
       "          1.0804e-01],\n",
       "       [  8.1059e-01,  -5.0676e-01,   1.2238e+00,  -6.5238e-01,\n",
       "          8.1584e-01,   9.8969e-01,   9.6648e-01,  -5.1946e-01,\n",
       "         -2.5595e-01,   9.8218e-01,   1.3817e+00,   3.8656e-01,\n",
       "          1.8310e+00],\n",
       "       [  1.0487e+00,  -5.5976e-01,   2.0655e-01,  -1.5500e+00,\n",
       "          7.4735e-01,   2.7128e+00,   1.8194e+00,  -3.5782e-01,\n",
       "          4.3217e-01,   8.7542e-01,   2.3080e-01,   9.1482e-01,\n",
       "          1.4409e+00],\n",
       "       [  1.7378e+00,  -3.8310e-01,   4.9718e-01,  -7.6458e-01,\n",
       "          8.8433e-01,   2.6626e+00,   1.5625e+00,  -1.0044e+00,\n",
       "          9.5246e-01,   1.1957e+00,  -4.0860e-01,   1.1790e+00,\n",
       "          2.3836e+00],\n",
       "       [  1.7629e+00,  -4.5377e-01,   3.1554e-01,  -1.3817e+00,\n",
       "         -2.8005e-01,   4.0419e-01,   5.6570e-01,  -5.1946e-01,\n",
       "          6.1679e-01,   1.0679e-01,   2.7343e-01,   1.3597e+00,\n",
       "          1.7660e+00],\n",
       "       [  9.6095e-01,  -5.7743e-01,   1.7022e-01,  -9.8898e-01,\n",
       "         -7.5950e-01,   5.7148e-01,   8.1234e-01,  -6.0028e-01,\n",
       "          3.3147e-01,   2.5625e-01,   8.2757e-01,   4.1436e-01,\n",
       "          1.8635e+00],\n",
       "       [  1.7503e+00,  -4.5377e-01,   6.1232e-02,  -2.1110e+00,\n",
       "          1.3091e-01,   1.7425e+00,   1.7167e+00,  -6.0028e-01,\n",
       "          2.2616e+00,   1.0676e+00,   1.0407e+00,   5.5338e-01,\n",
       "          2.6015e+00],\n",
       "       [  1.5624e+00,  -5.9510e-01,   2.4288e-01,  -1.1012e+00,\n",
       "          1.8432e+00,   9.0605e-01,   1.1206e+00,  -6.8109e-01,\n",
       "          1.1371e+00,   2.7333e-01,   3.5868e-01,   1.8323e+00,\n",
       "          1.0345e+00],\n",
       "       [  1.7503e+00,   1.0655e+00,  -3.0206e-01,  -9.8898e-01,\n",
       "          1.3091e-01,   1.6588e+00,   1.2337e+00,  -7.6191e-01,\n",
       "          9.6924e-01,  -4.2667e-02,   3.5868e-01,   1.1651e+00,\n",
       "          1.0345e+00],\n",
       "       [  1.4245e+00,  -7.9826e-01,  -1.5674e-01,  -7.6458e-01,\n",
       "         -3.4854e-01,  -9.7674e-02,   4.7321e-01,  -8.4273e-01,\n",
       "         -7.1330e-02,   3.4440e-05,   9.1282e-01,   3.0315e-01,\n",
       "          1.7335e+00],\n",
       "       [  6.2265e-01,  -5.0676e-01,   1.7022e-01,   2.7326e-01,\n",
       "         -6.0760e-03,   7.3876e-01,   1.0384e+00,  -8.4273e-01,\n",
       "          4.1539e-01,   4.2736e-02,   3.5868e-01,   1.2068e+00,\n",
       "          5.6316e-01],\n",
       "       [  3.8458e-01,  -3.6543e-01,   1.1511e+00,  -7.6458e-01,\n",
       "          1.3091e-01,   1.2406e+00,   1.2953e+00,  -4.3864e-01,\n",
       "          7.9721e-02,   4.2705e-01,   4.8656e-01,   3.3095e-01,\n",
       "          1.7010e+00],\n",
       "       [  5.3494e-01,   1.2864e+00,  -8.8333e-01,  -2.0359e-01,\n",
       "         -6.9101e-01,   3.2054e-01,   7.3013e-01,  -7.6191e-01,\n",
       "         -2.2238e-01,  -3.0742e-01,  -1.9546e-01,   5.5338e-01,\n",
       "          9.3701e-01],\n",
       "       [  2.7181e-01,  -5.3326e-01,  -8.1067e-01,  -2.3354e+00,\n",
       "         -6.0760e-03,   6.5512e-01,   8.1234e-01,  -8.4273e-01,\n",
       "         -5.5805e-01,  -2.6472e-01,   4.0131e-01,   1.1094e+00,\n",
       "          9.8577e-01],\n",
       "       [  1.1238e+00,  -4.3610e-01,   8.2415e-01,  -1.2695e+00,\n",
       "          6.2417e-02,   1.6588e+00,   1.6345e+00,  -1.5701e+00,\n",
       "          1.4686e-01,   1.8365e-01,  -3.2334e-01,   1.3319e+00,\n",
       "          1.1321e+00],\n",
       "       [  1.0612e+00,  -7.1876e-01,   9.3313e-01,   1.3301e-01,\n",
       "          1.0213e+00,   1.1570e+00,   1.4700e+00,   2.8873e-01,\n",
       "          1.8042e-01,   6.8326e-01,   7.4232e-01,  -4.4396e-02,\n",
       "          1.2458e+00],\n",
       "       [  1.0893e-01,  -7.8059e-01,  -9.5599e-01,  -1.1292e+00,\n",
       "         -1.4306e-01,   2.3690e-01,   6.8902e-01,  -6.8109e-01,\n",
       "         -4.0700e-01,  -5.5509e-01,   9.5545e-01,   1.2242e-01,\n",
       "          8.8825e-01],\n",
       "       [  9.8601e-01,  -4.2727e-01,   1.1511e+00,  -6.8043e-01,\n",
       "          1.0213e+00,   1.2406e+00,   8.4317e-01,   2.0791e-01,\n",
       "          1.1329e-01,   5.5516e-01,   7.4232e-01,   4.5606e-01,\n",
       "          2.0423e+00],\n",
       "       [  6.6024e-01,  -5.1560e-01,   1.0421e+00,  -1.4749e-01,\n",
       "          6.7885e-01,   1.5326e-01,   5.7598e-01,  -6.0028e-01,\n",
       "         -1.2168e-01,  -3.4158e-01,   6.1444e-01,   3.7265e-01,\n",
       "          1.1321e+00],\n",
       "       [  1.1113e+00,  -4.2727e-01,   1.5871e+00,  -3.5288e-02,\n",
       "          4.7337e-01,   1.1570e+00,   1.0281e+00,   4.6275e-02,\n",
       "          2.4756e-01,  -2.1347e-01,   1.2538e+00,   1.1094e+00,\n",
       "          5.4691e-01],\n",
       "       [  7.4794e-01,  -6.3926e-01,  -1.1426e-02,  -1.1944e-01,\n",
       "          4.0488e-01,   1.0064e+00,   1.2542e+00,  -1.1660e+00,\n",
       "          5.6644e-01,   8.1137e-01,   5.7181e-01,   3.8656e-01,\n",
       "          2.4974e+00],\n",
       "       [  8.7324e-01,  -4.8910e-01,  -1.1426e-02,  -6.5238e-01,\n",
       "          2.6790e-01,   2.7036e-01,   7.4040e-01,   4.5037e-01,\n",
       "          6.0001e-01,  -4.9531e-01,   1.1686e+00,   3.7265e-01,\n",
       "          7.9072e-01],\n",
       "       [  1.2993e+00,  -6.2160e-01,  -5.5636e-01,  -9.8898e-01,\n",
       "         -2.8005e-01,   6.5512e-01,   3.7045e-01,  -8.4273e-01,\n",
       "          6.1679e-01,  -1.2807e-01,   3.5868e-01,   1.3736e+00,\n",
       "          9.3701e-01],\n",
       "       [  8.3868e-02,  -2.9477e-01,   3.1129e+00,   1.5355e+00,\n",
       "          1.6378e+00,   6.2166e-01,   7.3013e-01,   8.5446e-01,\n",
       "          5.1609e-01,  -6.0633e-01,   7.4232e-01,   8.3141e-01,\n",
       "          2.7058e-01],\n",
       "       [  1.5498e+00,   1.4189e+00,   5.3351e-01,  -1.7744e+00,\n",
       "          1.9117e+00,   1.2406e+00,   1.1001e+00,  -1.3276e+00,\n",
       "          7.8463e-01,   4.2736e-02,  -2.8072e-01,   1.2902e+00,\n",
       "          4.3022e-02],\n",
       "       [  9.2336e-01,  -8.4242e-01,   4.9718e-01,  -7.9263e-01,\n",
       "          5.4187e-01,   1.9098e+00,   1.7475e+00,  -1.4085e+00,\n",
       "          7.1749e-01,   7.6867e-01,  -2.8072e-01,   3.7265e-01,\n",
       "          1.7497e+00],\n",
       "       [  3.7205e-01,  -6.5693e-01,   1.7324e+00,  -1.1292e+00,\n",
       "          6.7885e-01,   5.7148e-01,   7.3013e-01,  -1.9618e-01,\n",
       "         -4.2378e-01,  -1.7077e-01,   5.7181e-01,   2.4754e-01,\n",
       "          4.3313e-01],\n",
       "       [ -6.6488e-02,   1.2510e+00,   1.0421e+00,  -2.5969e-01,\n",
       "          1.3091e-01,   2.5363e-01,   4.5266e-01,  -9.2355e-01,\n",
       "          6.1679e-01,  -2.1347e-01,   3.1605e-01,   1.2763e+00,\n",
       "          7.5530e-02],\n",
       "       [  1.0988e+00,  -9.1309e-01,  -3.3839e-01,  -9.8898e-01,\n",
       "         -1.4306e-01,   1.2072e+00,   1.2131e+00,  -1.1660e+00,\n",
       "          3.9861e-01,   9.4801e-01,   2.3080e-01,   1.3180e+00,\n",
       "          9.6952e-01],\n",
       "       [  1.1489e+00,  -6.2160e-01,  -8.8333e-01,  -9.8898e-01,\n",
       "          6.2417e-02,   1.4079e+00,   1.4598e+00,  -1.2468e+00,\n",
       "          8.8533e-01,   4.6975e-01,  -1.9546e-01,   1.0121e+00,\n",
       "          7.7447e-01]])"
      ]
     },
     "execution_count": 88,
     "metadata": {},
     "output_type": "execute_result"
    }
   ],
   "source": [
    "X_train_std[y_train == 1]"
   ]
  },
  {
   "cell_type": "code",
   "execution_count": 89,
   "metadata": {
    "collapsed": false
   },
   "outputs": [
    {
     "data": {
      "text/plain": [
       "array([ 0.9259, -0.3091,  0.2592, -0.7989,  0.3039,  0.9608,  1.0515,\n",
       "       -0.6306,  0.5354,  0.2209,  0.4855,  0.798 ,  1.2017])"
      ]
     },
     "execution_count": 89,
     "metadata": {},
     "output_type": "execute_result"
    }
   ],
   "source": [
    "np.mean(X_train_std[y_train == 1], axis=0)"
   ]
  },
  {
   "cell_type": "code",
   "execution_count": 90,
   "metadata": {
    "collapsed": false
   },
   "outputs": [
    {
     "data": {
      "text/plain": [
       "array([  2.8902e-15,  -1.2556e-15,   1.1451e-15,   2.5625e-15,\n",
       "        -3.2590e-16,  -1.3511e-15,   2.7756e-16,  -1.6394e-15,\n",
       "         1.0816e-15,  -3.9395e-17,  -1.8623e-16,   1.0690e-15,   2.2831e-17])"
      ]
     },
     "execution_count": 90,
     "metadata": {},
     "output_type": "execute_result"
    }
   ],
   "source": [
    "np.mean(X_train_std, axis=0)"
   ]
  },
  {
   "cell_type": "code",
   "execution_count": 91,
   "metadata": {
    "code_folding": [],
    "collapsed": false
   },
   "outputs": [
    {
     "name": "stdout",
     "output_type": "stream",
     "text": [
      "Within-class scatter matrix: 13x13\n"
     ]
    }
   ],
   "source": [
    "d = 13\n",
    "S_W = np.zeros((d, d))\n",
    "for label, mv in zip(range(1, 4), mean_vecs):\n",
    "    class_scatter = np.zeros((d, d))\n",
    "    for row in X_train_std[y_train == label]:\n",
    "        row, mv = row.reshape(d, 1), mv.reshape(d, 1)\n",
    "        class_scatter += (row - mv).dot((row - mv).T)\n",
    "    S_W += class_scatter\n",
    "\n",
    "print('Within-class scatter matrix: %sx%s' % (S_W.shape[0], S_W.shape[1]))"
   ]
  },
  {
   "cell_type": "code",
   "execution_count": 92,
   "metadata": {
    "collapsed": false
   },
   "outputs": [
    {
     "name": "stdout",
     "output_type": "stream",
     "text": [
      "Class label distribution: [40 49 35]\n"
     ]
    }
   ],
   "source": [
    "print('Class label distribution: %s' % np.bincount(y_train)[1:])"
   ]
  },
  {
   "cell_type": "code",
   "execution_count": 93,
   "metadata": {
    "collapsed": false
   },
   "outputs": [
    {
     "name": "stdout",
     "output_type": "stream",
     "text": [
      "Scaled within-class scatter matrix: 13x13\n"
     ]
    }
   ],
   "source": [
    "d = 13\n",
    "S_W = np.zeros((d, d))\n",
    "for label, mv in zip(range(1, 4), mean_vecs):\n",
    "    class_scatter = np.cov(X_train_std[y_train == label].T)\n",
    "    S_W += class_scatter\n",
    "print('Scaled within-class scatter matrix: %sx%s' % (S_W.shape[0], S_W.shape[1]))"
   ]
  },
  {
   "cell_type": "code",
   "execution_count": 94,
   "metadata": {
    "collapsed": false
   },
   "outputs": [
    {
     "name": "stdout",
     "output_type": "stream",
     "text": [
      "Between-class scatter matrix: 13x13\n"
     ]
    }
   ],
   "source": [
    "mean_overall = np.mean(X_train_std, axis=0)\n",
    "d = 13\n",
    "S_B = np.zeros((d, d))\n",
    "for i, mean_vec in enumerate(mean_vecs):\n",
    "    n = X_train[y_train == i + 1, :].shape[0]\n",
    "    mean_vec = mean_vec.reshape(d, 1)\n",
    "    mean_overall = mean_overall.reshape(d, 1)\n",
    "    S_B += n * (mean_vec - mean_overall).dot((mean_vec - mean_overall).T)\n",
    "\n",
    "print('Between-class scatter matrix: %sx%s' % (S_B.shape[0], S_B.shape[1]))"
   ]
  },
  {
   "cell_type": "code",
   "execution_count": 95,
   "metadata": {
    "collapsed": true
   },
   "outputs": [],
   "source": [
    "eigen_vals, eigen_vecs = np.linalg.eig(np.linalg.inv(S_W).dot(S_B))"
   ]
  },
  {
   "cell_type": "code",
   "execution_count": 96,
   "metadata": {
    "collapsed": false
   },
   "outputs": [
    {
     "name": "stdout",
     "output_type": "stream",
     "text": [
      "ok\n"
     ]
    }
   ],
   "source": [
    "if np.linalg.inv(S_W).all() == np.linalg.solve(S_W, np.identity(S_W.shape[0])).all():\n",
    "    print(\"ok\") \n",
    "else:\n",
    "    print(\"ng\")"
   ]
  },
  {
   "cell_type": "code",
   "execution_count": 97,
   "metadata": {
    "collapsed": true
   },
   "outputs": [],
   "source": [
    "eigen_vals1, eigen_vecs2 = np.linalg.eig(np.linalg.solve(S_W, S_B))"
   ]
  },
  {
   "cell_type": "code",
   "execution_count": 98,
   "metadata": {
    "collapsed": false
   },
   "outputs": [
    {
     "name": "stdout",
     "output_type": "stream",
     "text": [
      "ok\n"
     ]
    }
   ],
   "source": [
    "if eigen_vals.all() == eigen_vals1.all():\n",
    "    print(\"ok\") \n",
    "else:\n",
    "    print(\"ng\")"
   ]
  },
  {
   "cell_type": "code",
   "execution_count": 99,
   "metadata": {
    "collapsed": false
   },
   "outputs": [
    {
     "data": {
      "text/plain": [
       "(array([  5.6843e-14 +0.0000e+00j,   1.5644e+02 +0.0000e+00j,\n",
       "          4.5272e+02 +0.0000e+00j,  -6.0883e-14 +0.0000e+00j,\n",
       "          6.2986e-14 +0.0000e+00j,   5.0097e-14 +0.0000e+00j,\n",
       "          1.2161e-14 +0.0000e+00j,  -1.5117e-14 +6.0671e-15j,\n",
       "         -1.5117e-14 -6.0671e-15j,  -1.2760e-14 +0.0000e+00j,\n",
       "          7.9322e-16 +7.4371e-15j,   7.9322e-16 -7.4371e-15j,\n",
       "          9.1572e-16 +0.0000e+00j]),\n",
       " array([  4.5272e+02 +0.0000e+00j,   1.5644e+02 +0.0000e+00j,\n",
       "          9.0861e-14 +0.0000e+00j,   2.2875e-14 +4.5998e-14j,\n",
       "          2.2875e-14 -4.5998e-14j,  -1.9980e-14 +7.0785e-15j,\n",
       "         -1.9980e-14 -7.0785e-15j,   9.4467e-15 +1.3493e-14j,\n",
       "          9.4467e-15 -1.3493e-14j,   1.4313e-14 +0.0000e+00j,\n",
       "          1.4323e-15 +0.0000e+00j,   6.2459e-15 +6.7882e-15j,\n",
       "          6.2459e-15 -6.7882e-15j]))"
      ]
     },
     "execution_count": 99,
     "metadata": {},
     "output_type": "execute_result"
    }
   ],
   "source": [
    "eigen_vals, eigen_vals1"
   ]
  },
  {
   "cell_type": "code",
   "execution_count": 100,
   "metadata": {
    "collapsed": false
   },
   "outputs": [
    {
     "name": "stdout",
     "output_type": "stream",
     "text": [
      "Eigenvalues in decreasing order:\n",
      "\n",
      "452.721581245\n",
      "156.43636122\n",
      "6.29861558094e-14\n",
      "6.0882566973e-14\n",
      "5.68434188608e-14\n",
      "5.00970127324e-14\n",
      "1.62888285062e-14\n",
      "1.62888285062e-14\n",
      "1.27604136115e-14\n",
      "1.21605269177e-14\n",
      "7.47931337016e-15\n",
      "7.47931337016e-15\n",
      "9.15717517221e-16\n"
     ]
    }
   ],
   "source": [
    "eigen_pairs = [(np.abs(eigen_vals[i]), eigen_vecs[:, i])\n",
    "               for i in range(len(eigen_vals))]\n",
    "\n",
    "eigen_pairs = sorted(eigen_pairs, key=lambda k: k[0], reverse=True)\n",
    "\n",
    "print('Eigenvalues in decreasing order:\\n')\n",
    "for eigen_val in eigen_pairs:\n",
    "    print(eigen_val[0])"
   ]
  },
  {
   "cell_type": "code",
   "execution_count": 101,
   "metadata": {
    "collapsed": true
   },
   "outputs": [],
   "source": [
    "tot = sum(eigen_vals.real)\n",
    "discr = [(i / tot) for i in sorted(eigen_vals.real, reverse=True)]\n",
    "cum_discr = np.cumsum(discr)"
   ]
  },
  {
   "cell_type": "code",
   "execution_count": 102,
   "metadata": {
    "collapsed": true
   },
   "outputs": [],
   "source": [
    "plt.bar(range(1, 14), discr, alpha=0.5, align='center',\n",
    "        label='individual \"discriminability\"')\n",
    "plt.step(range(1, 14), cum_discr, where='mid',\n",
    "         label='cumulative \"discriminability\"')\n",
    "plt.ylabel('\"discriminability\" ratio')\n",
    "plt.xlabel('Linear Discriminants')\n",
    "plt.ylim([-0.1, 1.1])\n",
    "plt.legend(loc='best')\n",
    "# plt.tight_layout()\n",
    "# plt.savefig('./figures/lda1.png', dpi=300)\n",
    "plt.show()"
   ]
  },
  {
   "cell_type": "code",
   "execution_count": 103,
   "metadata": {
    "collapsed": false
   },
   "outputs": [
    {
     "name": "stdout",
     "output_type": "stream",
     "text": [
      "Matrix W:\n",
      " [[-0.0662 -0.3797]\n",
      " [ 0.0386 -0.2206]\n",
      " [-0.0217 -0.3816]\n",
      " [ 0.184   0.3018]\n",
      " [-0.0034  0.0141]\n",
      " [ 0.2326  0.0234]\n",
      " [-0.7747  0.1869]\n",
      " [-0.0811  0.0696]\n",
      " [ 0.0875  0.1796]\n",
      " [ 0.185  -0.284 ]\n",
      " [-0.066   0.2349]\n",
      " [-0.3805  0.073 ]\n",
      " [-0.3285 -0.5971]]\n"
     ]
    }
   ],
   "source": [
    "w = np.hstack((eigen_pairs[0][1][:, np.newaxis].real,\n",
    "              eigen_pairs[1][1][:, np.newaxis].real))\n",
    "print('Matrix W:\\n', w)"
   ]
  },
  {
   "cell_type": "code",
   "execution_count": 104,
   "metadata": {
    "collapsed": false
   },
   "outputs": [
    {
     "data": {
      "text/plain": [
       "array([[ -1.9294e+00,  -4.4509e-01],\n",
       "       [  1.5781e-01,   2.3526e+00],\n",
       "       [  1.7163e+00,  -1.8916e+00],\n",
       "       [  1.2841e+00,  -7.4290e-01],\n",
       "       [ -3.1878e-01,   1.2776e+00],\n",
       "       [  1.2725e+00,  -4.0888e-01],\n",
       "       [  1.8524e+00,  -1.4223e+00],\n",
       "       [ -1.0221e+00,  -8.5217e-01],\n",
       "       [  6.8804e-01,   3.1926e-01],\n",
       "       [  1.4803e+00,  -1.8471e-02],\n",
       "       [ -3.3646e-01,   2.0185e+00],\n",
       "       [  6.7735e-01,   3.6548e-01],\n",
       "       [  1.1625e+00,  -9.7739e-01],\n",
       "       [ -1.2931e-01,   6.7413e-01],\n",
       "       [ -1.4060e+00,  -7.9373e-01],\n",
       "       [  8.9732e-01,   1.3351e+00],\n",
       "       [ -3.5202e-01,   1.3280e+00],\n",
       "       [  9.3041e-01,   4.3010e-01],\n",
       "       [ -5.5921e-01,  -2.5789e-01],\n",
       "       [ -1.9129e+00,  -1.3084e+00],\n",
       "       [ -7.7742e-01,   1.3315e+00],\n",
       "       [ -6.4682e-01,   1.1505e+00],\n",
       "       [  1.9370e+00,  -8.8463e-01],\n",
       "       [  2.1032e+00,  -1.1442e+00],\n",
       "       [  4.3484e-01,   2.3225e+00],\n",
       "       [ -4.0297e-01,   1.8843e+00],\n",
       "       [  2.4122e-02,   2.1266e+00],\n",
       "       [  1.8019e+00,  -1.5348e+00],\n",
       "       [  1.4805e+00,  -2.8713e-01],\n",
       "       [ -1.3719e+00,  -3.7168e-01],\n",
       "       [  1.8532e+00,  -1.3112e+00],\n",
       "       [ -1.1265e-02,   1.7320e+00],\n",
       "       [  1.9823e-01,   1.5790e+00],\n",
       "       [  1.8085e-01,   1.1593e+00],\n",
       "       [ -3.5550e-01,   1.6335e+00],\n",
       "       [  1.0868e-01,   1.9507e+00],\n",
       "       [ -1.6662e+00,  -1.1834e+00],\n",
       "       [ -9.1981e-01,  -7.8627e-01],\n",
       "       [ -3.1352e-01,   1.5687e+00],\n",
       "       [ -2.0470e+00,  -1.2095e+00],\n",
       "       [  1.5293e+00,  -8.6152e-01],\n",
       "       [ -1.2551e+00,  -3.2378e-01],\n",
       "       [  1.6832e+00,  -7.5438e-01],\n",
       "       [ -1.4185e+00,  -8.3610e-02],\n",
       "       [ -1.3795e+00,  -1.7461e+00],\n",
       "       [ -8.4275e-02,   1.3532e+00],\n",
       "       [ -1.7696e+00,  -1.3425e+00],\n",
       "       [ -4.9318e-01,   1.7769e+00],\n",
       "       [  5.5352e-02,   1.7031e+00],\n",
       "       [ -1.6941e+00,  -2.3007e+00],\n",
       "       [  1.5291e+00,  -1.4617e+00],\n",
       "       [  1.7533e-01,   1.2099e+00],\n",
       "       [ -1.7382e+00,  -1.8422e+00],\n",
       "       [  3.1986e-01,  -2.4947e-01],\n",
       "       [  3.7291e-01,   1.7774e+00],\n",
       "       [ -1.8000e-01,   1.1433e+00],\n",
       "       [  9.8109e-01,  -2.3844e-01],\n",
       "       [ -1.4647e+00,  -1.3895e+00],\n",
       "       [  1.8324e+00,  -3.8317e-01],\n",
       "       [  2.1135e+00,  -2.9601e-01],\n",
       "       [ -2.1378e+00,  -2.0687e+00],\n",
       "       [ -1.8534e+00,  -9.5085e-01],\n",
       "       [  5.0444e-01,   1.5117e+00],\n",
       "       [  1.7720e+00,  -1.3278e+00],\n",
       "       [ -1.4884e+00,  -1.1270e+00],\n",
       "       [ -1.3334e+00,  -1.3245e+00],\n",
       "       [ -1.0786e-02,   1.5429e+00],\n",
       "       [ -1.1026e-01,   1.0044e+00],\n",
       "       [ -1.2020e+00,  -5.6030e-02],\n",
       "       [ -1.5159e+00,  -1.4771e+00],\n",
       "       [ -1.0127e+00,  -6.4782e-01],\n",
       "       [  1.5350e+00,  -2.1060e+00],\n",
       "       [ -3.5606e-01,   7.9177e-01],\n",
       "       [ -1.7295e+00,  -7.1093e-01],\n",
       "       [ -5.7517e-01,   1.2794e+00],\n",
       "       [  1.2039e+00,  -7.5374e-01],\n",
       "       [ -1.9064e+00,  -1.4728e+00],\n",
       "       [ -2.1728e-01,   1.7169e+00],\n",
       "       [  1.4510e+00,  -2.2346e-01],\n",
       "       [  1.6856e+00,  -4.6498e-02],\n",
       "       [ -1.2895e+00,  -9.5837e-01],\n",
       "       [ -1.1870e+00,   2.7378e-02],\n",
       "       [  1.4735e+00,  -4.5150e-01],\n",
       "       [ -1.3978e+00,  -1.8583e+00],\n",
       "       [  1.5491e+00,  -2.1396e-01],\n",
       "       [  4.0138e-02,   2.2200e+00],\n",
       "       [ -1.1057e+00,  -9.2937e-01],\n",
       "       [ -1.3661e+00,  -5.6090e-01],\n",
       "       [ -1.6082e-01,   1.5981e+00],\n",
       "       [ -1.5458e+00,  -1.4495e+00],\n",
       "       [  1.5596e+00,  -1.1252e+00],\n",
       "       [  3.6086e-01,   1.7889e+00],\n",
       "       [  1.7507e+00,  -8.3676e-01],\n",
       "       [ -1.2624e+00,  -1.5836e-01],\n",
       "       [  1.2892e+00,  -7.2200e-01],\n",
       "       [  1.5524e+00,  -1.1014e+00],\n",
       "       [  1.6834e+00,  -1.4079e+00],\n",
       "       [ -1.1690e+00,  -6.4828e-01],\n",
       "       [ -5.4254e-01,   2.3530e+00],\n",
       "       [  1.5300e-01,   1.6316e+00],\n",
       "       [ -2.1691e-01,   1.4949e+00],\n",
       "       [ -1.1032e-01,   3.5498e+00],\n",
       "       [  1.8365e+00,  -1.2304e+00],\n",
       "       [  2.0648e+00,  -1.7898e+00],\n",
       "       [  2.0210e-01,   8.9665e-01],\n",
       "       [  3.2823e-01,   9.6346e-01],\n",
       "       [ -8.1928e-01,  -1.1942e-01],\n",
       "       [ -7.9035e-01,   9.3821e-01],\n",
       "       [  1.6739e+00,  -1.3370e+00],\n",
       "       [  1.8072e+00,  -1.8067e+00],\n",
       "       [ -1.2582e+00,  -1.3401e+00],\n",
       "       [ -1.5405e+00,  -1.4857e+00],\n",
       "       [  1.0562e+00,  -7.6343e-01],\n",
       "       [ -1.6856e-03,   1.1037e+00],\n",
       "       [  5.0852e-01,   3.6731e-01],\n",
       "       [  6.6384e-02,   1.9252e+00],\n",
       "       [ -1.0574e+00,  -9.8627e-01],\n",
       "       [ -7.5173e-01,  -4.0511e-01],\n",
       "       [ -1.4714e+00,  -8.3946e-01],\n",
       "       [  6.5045e-01,   2.1963e+00],\n",
       "       [ -3.3385e-01,   1.6537e+00],\n",
       "       [ -1.7156e-02,   2.1937e+00],\n",
       "       [ -1.4274e+00,  -4.4954e-01],\n",
       "       [  1.6356e+00,  -1.8797e+00]])"
      ]
     },
     "execution_count": 104,
     "metadata": {},
     "output_type": "execute_result"
    }
   ],
   "source": [
    "X_train_lda = X_train_std.dot(w)\n",
    "X_train_lda"
   ]
  },
  {
   "cell_type": "code",
   "execution_count": 105,
   "metadata": {
    "collapsed": true
   },
   "outputs": [],
   "source": [
    "colors = ['r', 'b', 'g']\n",
    "markers = ['s', 'x', 'o']\n",
    "\n",
    "for l, c, m in zip(np.unique(y_train), colors, markers):\n",
    "    plt.scatter(X_train_lda[y_train == l, 0] * (-1),\n",
    "                X_train_lda[y_train == l, 1] * (-1),\n",
    "                c=c, label=l, marker=m)\n",
    "\n",
    "plt.xlabel('LD 1')\n",
    "plt.ylabel('LD 2')\n",
    "plt.legend(loc='lower right')\n",
    "# plt.tight_layout()\n",
    "# plt.savefig('./figures/lda2.png', dpi=300)\n",
    "plt.show()"
   ]
  },
  {
   "cell_type": "code",
   "execution_count": 106,
   "metadata": {
    "collapsed": false
   },
   "outputs": [],
   "source": [
    "from sklearn.discriminant_analysis import LinearDiscriminantAnalysis"
   ]
  },
  {
   "cell_type": "code",
   "execution_count": 107,
   "metadata": {
    "collapsed": false
   },
   "outputs": [],
   "source": [
    "lda = LinearDiscriminantAnalysis(n_components=2)\n",
    "X_train_lda = lda.fit_transform(X_train_std, y_train)\n",
    "X_test_lda = lda.transform(X_test_std)"
   ]
  },
  {
   "cell_type": "code",
   "execution_count": 108,
   "metadata": {
    "collapsed": false
   },
   "outputs": [],
   "source": [
    "from sklearn.linear_model import LogisticRegression\n",
    "lr = LogisticRegression()\n",
    "lr = lr.fit(X_train_lda, y_train)\n",
    "\n",
    "plot_decision_regions(X_train_lda, y_train, classifier=lr)\n",
    "plt.xlabel('LD 1')\n",
    "plt.ylabel('LD 2')\n",
    "plt.legend(loc='lower left')\n",
    "# plt.tight_layout()\n",
    "# plt.savefig('./images/lda3.png', dpi=300)\n",
    "plt.show()"
   ]
  },
  {
   "cell_type": "code",
   "execution_count": 109,
   "metadata": {
    "collapsed": true
   },
   "outputs": [],
   "source": [
    "plot_decision_regions(X_test_lda, y_test, classifier=lr)\n",
    "plt.xlabel('LD 1')\n",
    "plt.ylabel('LD 2')\n",
    "plt.legend(loc='lower left')\n",
    "# plt.tight_layout()\n",
    "# plt.savefig('./images/lda3.png', dpi=300)\n",
    "plt.show()"
   ]
  },
  {
   "cell_type": "code",
   "execution_count": 1,
   "metadata": {
    "collapsed": true
   },
   "outputs": [],
   "source": [
    "from scipy.spatial.distance import pdist, squareform\n",
    "from scipy import exp\n",
    "from scipy.linalg import eigh\n",
    "import numpy as np\n",
    "\n",
    "def rbf_kernel_pca(X, gamma, n_components):\n",
    "    \"\"\"\n",
    "    RBF kernel PCA implementation.\n",
    "\n",
    "    Parameters\n",
    "    ------------\n",
    "    X: {NumPy ndarray}, shape = [n_samples, n_features]\n",
    "        \n",
    "    gamma: float\n",
    "      Tuning parameter of the RBF kernel\n",
    "        \n",
    "    n_components: int\n",
    "      Number of principal components to return\n",
    "\n",
    "    Returns\n",
    "    ------------\n",
    "     X_pc: {NumPy ndarray}, shape = [n_samples, k_features]\n",
    "       Projected dataset   \n",
    "\n",
    "    \"\"\"\n",
    "    \n",
    "    # Calculate pairwise squared Euclidean distances\n",
    "    # in the MxN dimensional dataset.\n",
    "    sq_dists = pdist(X, 'sqeuclidean')\n",
    "\n",
    "    # Convert pairwise distances into a square matrix.\n",
    "    mat_sq_dists = squareform(sq_dists)\n",
    "\n",
    "    # Compute the symmetric kernel matrix.\n",
    "    K = exp(-gamma * mat_sq_dists)\n",
    "\n",
    "    # Center the kernel matrix.\n",
    "    N = K.shape[0]\n",
    "    one_n = np.ones((N, N)) / N\n",
    "    K = K - one_n.dot(K) - K.dot(one_n) + one_n.dot(K).dot(one_n)\n",
    "\n",
    "    # Obtaining eigenpairs from the centered kernel matrix\n",
    "    # numpy.eigh returns them in sorted order\n",
    "    eigvals, eigvecs = eigh(K)\n",
    "\n",
    "    # Collect the top k eigenvectors (projected samples)\n",
    "    X_pc = np.column_stack((eigvecs[:, -i]\n",
    "                            for i in range(1, n_components + 1)))\n",
    "\n",
    "    return X_pc"
   ]
  },
  {
   "cell_type": "code",
   "execution_count": 4,
   "metadata": {
    "collapsed": false
   },
   "outputs": [],
   "source": [
    "import matplotlib.pyplot as plt\n",
    "from sklearn.datasets import make_moons\n",
    "\n",
    "X, y = make_moons(n_samples=100, random_state=123)\n",
    "\n",
    "plt.scatter(X[y == 0, 0], X[y == 0, 1], color='red', marker='^', alpha=0.5)\n",
    "plt.scatter(X[y == 1, 0], X[y == 1, 1], color='blue', marker='o', alpha=0.5)\n",
    "\n",
    "# plt.tight_layout()\n",
    "# plt.savefig('./figures/half_moon_1.png', dpi=300)\n",
    "plt.show()"
   ]
  },
  {
   "cell_type": "code",
   "execution_count": null,
   "metadata": {
    "collapsed": true
   },
   "outputs": [],
   "source": []
  }
 ],
 "metadata": {
  "anaconda-cloud": {},
  "kernelspec": {
   "display_name": "Python [Root]",
   "language": "python",
   "name": "Python [Root]"
  },
  "language_info": {
   "codemirror_mode": {
    "name": "ipython",
    "version": 3
   },
   "file_extension": ".py",
   "mimetype": "text/x-python",
   "name": "python",
   "nbconvert_exporter": "python",
   "pygments_lexer": "ipython3",
   "version": "3.5.2"
  },
  "latex_envs": {
   "bibliofile": "biblio.bib",
   "cite_by": "apalike",
   "current_citInitial": 1,
   "eqLabelWithNumbers": true,
   "eqNumInitial": 0
  },
  "toc": {
   "toc_cell": false,
   "toc_number_sections": true,
   "toc_threshold": 6,
   "toc_window_display": false
  }
 },
 "nbformat": 4,
 "nbformat_minor": 0
}
